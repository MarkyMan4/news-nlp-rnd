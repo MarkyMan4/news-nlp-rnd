{
 "cells": [
  {
   "cell_type": "code",
   "execution_count": 2,
   "id": "190ffae1",
   "metadata": {},
   "outputs": [],
   "source": [
    "import os"
   ]
  },
  {
   "cell_type": "markdown",
   "id": "c8d42a18",
   "metadata": {},
   "source": [
    "### Read in all the log files"
   ]
  },
  {
   "cell_type": "code",
   "execution_count": 6,
   "id": "22be82c6",
   "metadata": {},
   "outputs": [
    {
     "data": {
      "text/plain": [
       "['starting\\n',\n",
       " 'error with URL: https://www.newsweek.com/russia-china-pledge-not-use-nuclear-weapons-first-avoid-firing-missiles-each-other-1604865\\n',\n",
       " 'Article `download()` failed with 403 Client Error: Forbidden for url: https://www.newsweek.com/russia-china-pledge-not-use-nuclear-weapons-first-avoid-firing-missiles-each-other-1604865 on URL https://www.newsweek.com/russia-china-pledge-not-use-nuclear-weapons-first-avoid-firing-missiles-each-other-1604865\\n',\n",
       " 'retrieved 8 articles\\n',\n",
       " 'inserted 8 records into news_article\\n',\n",
       " 'inserted 8 records into news_articlenlp\\n',\n",
       " 'success\\n',\n",
       " 'Total run time: 0:00:18.158722\\n']"
      ]
     },
     "execution_count": 6,
     "metadata": {},
     "output_type": "execute_result"
    }
   ],
   "source": [
    "log_dir = '../data/logs'\n",
    "logs = []\n",
    "\n",
    "for file in os.listdir(log_dir):\n",
    "    with open(f'{log_dir}/{file}') as f:\n",
    "        logs.append(f.readlines())\n",
    "        \n",
    "logs[0]"
   ]
  },
  {
   "cell_type": "markdown",
   "id": "eb51f066",
   "metadata": {},
   "source": [
    "### Remove newline characters from each log"
   ]
  },
  {
   "cell_type": "code",
   "execution_count": 9,
   "id": "4844750b",
   "metadata": {},
   "outputs": [
    {
     "data": {
      "text/plain": [
       "['starting',\n",
       " 'error with URL: https://www.newsweek.com/russia-china-pledge-not-use-nuclear-weapons-first-avoid-firing-missiles-each-other-1604865',\n",
       " 'Article `download()` failed with 403 Client Error: Forbidden for url: https://www.newsweek.com/russia-china-pledge-not-use-nuclear-weapons-first-avoid-firing-missiles-each-other-1604865 on URL https://www.newsweek.com/russia-china-pledge-not-use-nuclear-weapons-first-avoid-firing-missiles-each-other-1604865',\n",
       " 'retrieved 8 articles',\n",
       " 'inserted 8 records into news_article',\n",
       " 'inserted 8 records into news_articlenlp',\n",
       " 'success',\n",
       " 'Total run time: 0:00:18.158722']"
      ]
     },
     "execution_count": 9,
     "metadata": {},
     "output_type": "execute_result"
    }
   ],
   "source": [
    "for log in logs:\n",
    "    for i in range(len(log)):\n",
    "        log[i] = log[i].replace('\\n', '')\n",
    "        \n",
    "logs[0]"
   ]
  },
  {
   "cell_type": "markdown",
   "id": "94036e4e",
   "metadata": {},
   "source": [
    "### Count how many errors occurred\n",
    "Find what percent of the time there is an error when collecting articles"
   ]
  },
  {
   "cell_type": "code",
   "execution_count": 12,
   "id": "674245f9",
   "metadata": {},
   "outputs": [
    {
     "data": {
      "text/plain": [
       "26"
      ]
     },
     "execution_count": 12,
     "metadata": {},
     "output_type": "execute_result"
    }
   ],
   "source": [
    "err_count = 0\n",
    "\n",
    "for log in logs:\n",
    "    for line in log:\n",
    "        if line.startswith('error'):\n",
    "            err_count += 1\n",
    "            \n",
    "err_count"
   ]
  },
  {
   "cell_type": "code",
   "execution_count": 18,
   "id": "ceb7c5e9",
   "metadata": {},
   "outputs": [
    {
     "name": "stdout",
     "output_type": "stream",
     "text": [
      "Errors occurred 36.6% of the time\n"
     ]
    }
   ],
   "source": [
    "print(f'Errors occurred {round(err_count / len(logs), 3) * 100}% of the time')"
   ]
  },
  {
   "cell_type": "code",
   "execution_count": null,
   "id": "0e068596",
   "metadata": {},
   "outputs": [],
   "source": []
  }
 ],
 "metadata": {
  "kernelspec": {
   "display_name": "Python 3",
   "language": "python",
   "name": "python3"
  },
  "language_info": {
   "codemirror_mode": {
    "name": "ipython",
    "version": 3
   },
   "file_extension": ".py",
   "mimetype": "text/x-python",
   "name": "python",
   "nbconvert_exporter": "python",
   "pygments_lexer": "ipython3",
   "version": "3.8.5"
  }
 },
 "nbformat": 4,
 "nbformat_minor": 5
}
