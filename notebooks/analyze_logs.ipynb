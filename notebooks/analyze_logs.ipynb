{
 "cells": [
  {
   "cell_type": "code",
   "execution_count": 1,
   "id": "6f4feadc",
   "metadata": {},
   "outputs": [],
   "source": [
    "import os"
   ]
  },
  {
   "cell_type": "markdown",
   "id": "89a32ea5",
   "metadata": {},
   "source": [
    "### Read in all the log files"
   ]
  },
  {
   "cell_type": "code",
   "execution_count": 2,
   "id": "9911c7de",
   "metadata": {},
   "outputs": [
    {
     "data": {
      "text/plain": [
       "['starting\\n',\n",
       " 'error with URL: https://www.newsweek.com/russia-china-pledge-not-use-nuclear-weapons-first-avoid-firing-missiles-each-other-1604865\\n',\n",
       " 'Article `download()` failed with 403 Client Error: Forbidden for url: https://www.newsweek.com/russia-china-pledge-not-use-nuclear-weapons-first-avoid-firing-missiles-each-other-1604865 on URL https://www.newsweek.com/russia-china-pledge-not-use-nuclear-weapons-first-avoid-firing-missiles-each-other-1604865\\n',\n",
       " 'retrieved 8 articles\\n',\n",
       " 'inserted 8 records into news_article\\n',\n",
       " 'inserted 8 records into news_articlenlp\\n',\n",
       " 'success\\n',\n",
       " 'Total run time: 0:00:18.158722\\n']"
      ]
     },
     "execution_count": 2,
     "metadata": {},
     "output_type": "execute_result"
    }
   ],
   "source": [
    "log_dir = '../data/logs'\n",
    "logs = []\n",
    "\n",
    "for file in os.listdir(log_dir):\n",
    "    with open(f'{log_dir}/{file}') as f:\n",
    "        logs.append(f.readlines())\n",
    "        \n",
    "logs[0]"
   ]
  },
  {
   "cell_type": "markdown",
   "id": "764d7914",
   "metadata": {},
   "source": [
    "### Remove newline characters from each log"
   ]
  },
  {
   "cell_type": "code",
   "execution_count": 3,
   "id": "4fb8d4c9",
   "metadata": {},
   "outputs": [
    {
     "data": {
      "text/plain": [
       "['starting',\n",
       " 'error with URL: https://www.newsweek.com/russia-china-pledge-not-use-nuclear-weapons-first-avoid-firing-missiles-each-other-1604865',\n",
       " 'Article `download()` failed with 403 Client Error: Forbidden for url: https://www.newsweek.com/russia-china-pledge-not-use-nuclear-weapons-first-avoid-firing-missiles-each-other-1604865 on URL https://www.newsweek.com/russia-china-pledge-not-use-nuclear-weapons-first-avoid-firing-missiles-each-other-1604865',\n",
       " 'retrieved 8 articles',\n",
       " 'inserted 8 records into news_article',\n",
       " 'inserted 8 records into news_articlenlp',\n",
       " 'success',\n",
       " 'Total run time: 0:00:18.158722']"
      ]
     },
     "execution_count": 3,
     "metadata": {},
     "output_type": "execute_result"
    }
   ],
   "source": [
    "for log in logs:\n",
    "    for i in range(len(log)):\n",
    "        log[i] = log[i].replace('\\n', '')\n",
    "        \n",
    "logs[0]"
   ]
  },
  {
   "cell_type": "markdown",
   "id": "b947c4d4",
   "metadata": {},
   "source": [
    "### Count how many errors occurred\n",
    "Find what percent of the time there is an error when collecting articles"
   ]
  },
  {
   "cell_type": "code",
   "execution_count": 4,
   "id": "c7ab0845",
   "metadata": {},
   "outputs": [
    {
     "data": {
      "text/plain": [
       "26"
      ]
     },
     "execution_count": 4,
     "metadata": {},
     "output_type": "execute_result"
    }
   ],
   "source": [
    "err_count = 0\n",
    "\n",
    "for log in logs:\n",
    "    for line in log:\n",
    "        if line.startswith('error'):\n",
    "            err_count += 1\n",
    "            \n",
    "err_count"
   ]
  },
  {
   "cell_type": "code",
   "execution_count": 5,
   "id": "62aa4099",
   "metadata": {},
   "outputs": [
    {
     "name": "stdout",
     "output_type": "stream",
     "text": [
      "Errors occurred 36.6% of the time\n"
     ]
    }
   ],
   "source": [
    "print(f'Errors occurred {round(err_count / len(logs), 3) * 100}% of the time')"
   ]
  },
  {
   "cell_type": "markdown",
   "id": "0d190310",
   "metadata": {},
   "source": [
    "### Find how many articles are collected and inserted on average each time the process runs"
   ]
  },
  {
   "cell_type": "code",
   "execution_count": 11,
   "id": "15256400",
   "metadata": {
    "scrolled": true
   },
   "outputs": [
    {
     "name": "stdout",
     "output_type": "stream",
     "text": [
      "569\n",
      "263\n"
     ]
    }
   ],
   "source": [
    "total_collected = 0\n",
    "total_inserted = 0\n",
    "\n",
    "for log in logs:\n",
    "    for line in log:\n",
    "        words = line.split(' ')\n",
    "        if words[0] == 'retrieved':\n",
    "            total_collected += int(words[1])\n",
    "            \n",
    "        if words[0] == 'inserted' and words[-1] == 'news_article':\n",
    "            if int(words[1]) < 20: # ignore outliers\n",
    "                total_inserted += int(words[1])\n",
    "\n",
    "print(total_collected)\n",
    "print(total_inserted)"
   ]
  },
  {
   "cell_type": "code",
   "execution_count": 12,
   "id": "96d35948",
   "metadata": {},
   "outputs": [
    {
     "name": "stdout",
     "output_type": "stream",
     "text": [
      "Collected 8.01 articles on average\n"
     ]
    }
   ],
   "source": [
    "avg_collected = round(total_collected / len(logs), 2)\n",
    "\n",
    "print(f'Collected {avg_collected} articles on average')"
   ]
  },
  {
   "cell_type": "code",
   "execution_count": 13,
   "id": "d0a0e4e1",
   "metadata": {},
   "outputs": [
    {
     "name": "stdout",
     "output_type": "stream",
     "text": [
      "Inserted 3.7 articles on average\n"
     ]
    }
   ],
   "source": [
    "avg_inserted = round(total_inserted / len(logs), 2)\n",
    "\n",
    "print(f'Inserted {avg_inserted} articles on average')"
   ]
  },
  {
   "cell_type": "markdown",
   "id": "5559184e",
   "metadata": {},
   "source": [
    "### Collect all URLs that caused errors. May write these to file eventually for looking into them more later"
   ]
  },
  {
   "cell_type": "code",
   "execution_count": 14,
   "id": "75776aa6",
   "metadata": {
    "scrolled": true
   },
   "outputs": [
    {
     "data": {
      "text/plain": [
       "['https://www.newsweek.com/russia-china-pledge-not-use-nuclear-weapons-first-avoid-firing-missiles-each-other-1604865',\n",
       " 'https://www.barrons.com/news/mexico-supreme-court-decriminalizes-recreational-marijuana-use-01624911307',\n",
       " 'https://www.abc.net.au/news/2021-06-29/mexico-supreme-court-decriminalises-marijuana-for-personal-use/100252604',\n",
       " 'https://www.newsweek.com/mass-graves-found-myanmar-amid-alarm-over-human-rights-abuses-1601731',\n",
       " 'https://www.theguardian.com/environment/2021/jun/20/un-blasts-world-leaders-for-failing-to-seal-72bn-a-year-deal-on-climate',\n",
       " 'https://www.newsweek.com/russia-china-pledge-not-use-nuclear-weapons-first-avoid-firing-missiles-each-other-1604865',\n",
       " 'https://www.newsweek.com/benjamin-netanyahu-feels-cheated-wont-give-slightest-legitimacy-new-government-lawmaker-1600354',\n",
       " 'https://www.newsweek.com/benjamin-netanyahu-feels-cheated-wont-give-slightest-legitimacy-new-government-lawmaker-1600354',\n",
       " 'https://www.newsweek.com/ship-that-sunk-carrying-25-tons-chemicals-caused-significant-damage-planet-1602657',\n",
       " 'https://www.thelocal.se/20210621/sweden-stefan-lofven-loses-no-confidence-motion/',\n",
       " 'https://www.sbs.com.au/news/hong-kong-s-pro-democracy-apple-daily-newspaper-could-shut-in-a-matter-of-days-after-asset-freeze',\n",
       " 'https://www.newsweek.com/benjamin-netanyahu-feels-cheated-wont-give-slightest-legitimacy-new-government-lawmaker-1600354',\n",
       " 'https://www.newsweek.com/benjamin-netanyahu-feels-cheated-wont-give-slightest-legitimacy-new-government-lawmaker-1600354',\n",
       " 'https://www.thelocal.se/20210621/sweden-stefan-lofven-loses-no-confidence-motion/',\n",
       " 'https://www.sbs.com.au/news/hong-kong-s-pro-democracy-apple-daily-newspaper-could-shut-in-a-matter-of-days-after-asset-freeze',\n",
       " 'https://www.barrons.com/news/mexico-supreme-court-decriminalizes-recreational-marijuana-use-01624911307',\n",
       " 'https://www.abc.net.au/news/2021-06-16/uk-child-marriage-minimum-age-18-parliament/100221542',\n",
       " 'https://www.newsweek.com/ship-that-sunk-carrying-25-tons-chemicals-caused-significant-damage-planet-1602657',\n",
       " 'https://www.barrons.com/news/mexico-supreme-court-decriminalizes-recreational-marijuana-use-01624911307',\n",
       " 'https://www.newsweek.com/ship-that-sunk-carrying-25-tons-chemicals-caused-significant-damage-planet-1602657',\n",
       " 'https://www.newsweek.com/ship-that-sunk-carrying-25-tons-chemicals-caused-significant-damage-planet-1602657',\n",
       " 'https://www.thelocal.se/20210621/sweden-stefan-lofven-loses-no-confidence-motion/',\n",
       " 'https://www.newsweek.com/angela-merkel-joins-other-eu-leaders-criticizing-hungarys-lgbt-law-this-law-wrong-1603447',\n",
       " 'https://www.barrons.com/news/mexico-supreme-court-decriminalizes-recreational-marijuana-use-01624911307',\n",
       " 'https://www.abc.net.au/news/2021-06-29/mexico-supreme-court-decriminalises-marijuana-for-personal-use/100252604',\n",
       " 'https://www.newsweek.com/mass-graves-found-myanmar-amid-alarm-over-human-rights-abuses-1601731']"
      ]
     },
     "execution_count": 14,
     "metadata": {},
     "output_type": "execute_result"
    }
   ],
   "source": [
    "err_urls = []\n",
    "\n",
    "for log in logs:\n",
    "    for line in log:\n",
    "        words = line.split(' ')\n",
    "        if line.startswith('error with URL'):\n",
    "            err_urls.append(words[-1])\n",
    "            \n",
    "err_urls"
   ]
  },
  {
   "cell_type": "code",
   "execution_count": null,
   "id": "487cb39e",
   "metadata": {},
   "outputs": [],
   "source": []
  }
 ],
 "metadata": {
  "kernelspec": {
   "display_name": "Python 3",
   "language": "python",
   "name": "python3"
  },
  "language_info": {
   "codemirror_mode": {
    "name": "ipython",
    "version": 3
   },
   "file_extension": ".py",
   "mimetype": "text/x-python",
   "name": "python",
   "nbconvert_exporter": "python",
   "pygments_lexer": "ipython3",
   "version": "3.8.5"
  }
 },
 "nbformat": 4,
 "nbformat_minor": 5
}
